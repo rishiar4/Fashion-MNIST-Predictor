{
 "cells": [
  {
   "cell_type": "markdown",
   "metadata": {},
   "source": [
    "Importing Libraries"
   ]
  },
  {
   "cell_type": "code",
   "execution_count": 1,
   "metadata": {},
   "outputs": [],
   "source": [
    "from warnings import filterwarnings\n",
    "filterwarnings('ignore')"
   ]
  },
  {
   "cell_type": "code",
   "execution_count": 2,
   "metadata": {},
   "outputs": [
    {
     "name": "stderr",
     "output_type": "stream",
     "text": [
      "Using TensorFlow backend.\n"
     ]
    }
   ],
   "source": [
    "import keras\n",
    "\n",
    "from matplotlib import pyplot as plt"
   ]
  },
  {
   "cell_type": "markdown",
   "metadata": {},
   "source": [
    "Check Backend ( Keras uses Tensorflow as backend )"
   ]
  },
  {
   "cell_type": "code",
   "execution_count": 3,
   "metadata": {},
   "outputs": [
    {
     "data": {
      "text/plain": [
       "'tensorflow'"
      ]
     },
     "execution_count": 3,
     "metadata": {},
     "output_type": "execute_result"
    }
   ],
   "source": [
    "keras.backend.backend()"
   ]
  },
  {
   "cell_type": "markdown",
   "metadata": {},
   "source": [
    "Importing and spliting data"
   ]
  },
  {
   "cell_type": "code",
   "execution_count": 4,
   "metadata": {},
   "outputs": [],
   "source": [
    "from keras.datasets import fashion_mnist\n",
    "\n",
    "(x_train, y_train), (x_test, y_test) = fashion_mnist.load_data()\n"
   ]
  },
  {
   "cell_type": "markdown",
   "metadata": {},
   "source": [
    "Shape of the Images"
   ]
  },
  {
   "cell_type": "code",
   "execution_count": 5,
   "metadata": {},
   "outputs": [
    {
     "data": {
      "text/plain": [
       "(60000, 28, 28)"
      ]
     },
     "execution_count": 5,
     "metadata": {},
     "output_type": "execute_result"
    }
   ],
   "source": [
    "x_train.shape"
   ]
  },
  {
   "cell_type": "code",
   "execution_count": 6,
   "metadata": {},
   "outputs": [
    {
     "data": {
      "text/plain": [
       "(60000,)"
      ]
     },
     "execution_count": 6,
     "metadata": {},
     "output_type": "execute_result"
    }
   ],
   "source": [
    "y_train.shape"
   ]
  },
  {
   "cell_type": "code",
   "execution_count": 7,
   "metadata": {},
   "outputs": [
    {
     "data": {
      "text/plain": [
       "(10000, 28, 28)"
      ]
     },
     "execution_count": 7,
     "metadata": {},
     "output_type": "execute_result"
    }
   ],
   "source": [
    "x_test.shape"
   ]
  },
  {
   "cell_type": "code",
   "execution_count": 8,
   "metadata": {},
   "outputs": [
    {
     "data": {
      "text/plain": [
       "(10000,)"
      ]
     },
     "execution_count": 8,
     "metadata": {},
     "output_type": "execute_result"
    }
   ],
   "source": [
    "y_test.shape"
   ]
  },
  {
   "cell_type": "markdown",
   "metadata": {},
   "source": [
    "PLotting the Images"
   ]
  },
  {
   "cell_type": "code",
   "execution_count": 9,
   "metadata": {},
   "outputs": [
    {
     "data": {
      "text/plain": [
       "<matplotlib.image.AxesImage at 0x7f160060d390>"
      ]
     },
     "execution_count": 9,
     "metadata": {},
     "output_type": "execute_result"
    },
    {
     "data": {
      "image/png": "[encoded data removed]",
      "text/plain": [
       "<Figure size 288x288 with 1 Axes>"
      ]
     },
     "metadata": {
      "needs_background": "light"
     },
     "output_type": "display_data"
    }
   ],
   "source": [
    "plt.matshow(x_test[0])"
   ]
  },
  {
   "cell_type": "code",
   "execution_count": 10,
   "metadata": {},
   "outputs": [
    {
     "data": {
      "text/plain": [
       "9"
      ]
     },
     "execution_count": 10,
     "metadata": {},
     "output_type": "execute_result"
    }
   ],
   "source": [
    "y_test[0]"
   ]
  },
  {
   "cell_type": "raw",
   "metadata": {},
   "source": [
    "Label Description of the data\n",
    "0  T-shirt/top\n",
    "1  Trouser\n",
    "2  Pullover\n",
    "3  Dress\n",
    "4  Coat\n",
    "5  Sandal\n",
    "6  Shirt\n",
    "7  Sneaker\n",
    "8  Bag\n",
    "9  Ankle boot"
   ]
  },
  {
   "cell_type": "code",
   "execution_count": null,
   "metadata": {},
   "outputs": [],
   "source": []
  },
  {
   "cell_type": "markdown",
   "metadata": {},
   "source": [
    "Normalising the Data"
   ]
  },
  {
   "cell_type": "code",
   "execution_count": 11,
   "metadata": {},
   "outputs": [],
   "source": [
    "x_train=x_train/255\n",
    "x_test=x_test/255"
   ]
  },
  {
   "cell_type": "code",
   "execution_count": null,
   "metadata": {},
   "outputs": [],
   "source": []
  },
  {
   "cell_type": "markdown",
   "metadata": {},
   "source": [
    "Importing Sequential Models and Layers of the Model"
   ]
  },
  {
   "cell_type": "code",
   "execution_count": 12,
   "metadata": {},
   "outputs": [],
   "source": [
    "from keras.models import Sequential\n",
    "\n",
    "from keras.layers import Dense,Activation, Flatten"
   ]
  },
  {
   "cell_type": "code",
   "execution_count": 13,
   "metadata": {},
   "outputs": [],
   "source": [
    "model=Sequential()"
   ]
  },
  {
   "cell_type": "code",
   "execution_count": 14,
   "metadata": {},
   "outputs": [],
   "source": [
    "model.add(Flatten(input_shape=[28, 28]))\n",
    "\n",
    "model.add(Dense(20,activation='relu'))\n",
    "\n",
    "model.add(Dense(10,activation='softmax'))\n",
    "\n"
   ]
  },
  {
   "cell_type": "markdown",
   "metadata": {},
   "source": [
    "Summary of the NN "
   ]
  },
  {
   "cell_type": "code",
   "execution_count": 15,
   "metadata": {},
   "outputs": [
    {
     "name": "stdout",
     "output_type": "stream",
     "text": [
      "Model: \"sequential_1\"\n",
      "_________________________________________________________________\n",
      "Layer (type)                 Output Shape              Param #   \n",
      "=================================================================\n",
      "flatten_1 (Flatten)          (None, 784)               0         \n",
      "_________________________________________________________________\n",
      "dense_1 (Dense)              (None, 20)                15700     \n",
      "_________________________________________________________________\n",
      "dense_2 (Dense)              (None, 10)                210       \n",
      "=================================================================\n",
      "Total params: 15,910\n",
      "Trainable params: 15,910\n",
      "Non-trainable params: 0\n",
      "_________________________________________________________________\n"
     ]
    }
   ],
   "source": [
    "model.summary()"
   ]
  },
  {
   "cell_type": "code",
   "execution_count": 16,
   "metadata": {},
   "outputs": [],
   "source": [
    "model.compile(loss='sparse_categorical_crossentropy',optimizer='adam',metrics=['accuracy'])"
   ]
  },
  {
   "cell_type": "code",
   "execution_count": 17,
   "metadata": {},
   "outputs": [
    {
     "name": "stdout",
     "output_type": "stream",
     "text": [
      "Epoch 1/100\n",
      "60000/60000 [==============================] - 21s 346us/step - loss: 0.5343 - accuracy: 0.8135\n",
      "Epoch 2/100\n",
      "60000/60000 [==============================] - 17s 286us/step - loss: 0.4285 - accuracy: 0.8498\n",
      "Epoch 3/100\n",
      "60000/60000 [==============================] - 18s 304us/step - loss: 0.3992 - accuracy: 0.8579\n",
      "Epoch 4/100\n",
      "60000/60000 [==============================] - 18s 308us/step - loss: 0.3770 - accuracy: 0.8666\n",
      "Epoch 5/100\n",
      "60000/60000 [==============================] - 18s 295us/step - loss: 0.3634 - accuracy: 0.8698\n",
      "Epoch 6/100\n",
      "60000/60000 [==============================] - 16s 270us/step - loss: 0.3530 - accuracy: 0.8738\n",
      "Epoch 7/100\n",
      "60000/60000 [==============================] - 19s 315us/step - loss: 0.3428 - accuracy: 0.8769\n",
      "Epoch 8/100\n",
      "60000/60000 [==============================] - 16s 273us/step - loss: 0.3366 - accuracy: 0.8780\n",
      "Epoch 9/100\n",
      "60000/60000 [==============================] - 20s 338us/step - loss: 0.3293 - accuracy: 0.8805\n",
      "Epoch 10/100\n",
      "60000/60000 [==============================] - 21s 346us/step - loss: 0.3249 - accuracy: 0.8824\n",
      "Epoch 11/100\n",
      "60000/60000 [==============================] - 18s 302us/step - loss: 0.3190 - accuracy: 0.8828\n",
      "Epoch 12/100\n",
      "60000/60000 [==============================] - 20s 327us/step - loss: 0.3134 - accuracy: 0.8860\n",
      "Epoch 13/100\n",
      "60000/60000 [==============================] - 18s 293us/step - loss: 0.3114 - accuracy: 0.8858\n",
      "Epoch 14/100\n",
      "60000/60000 [==============================] - 22s 359us/step - loss: 0.3062 - accuracy: 0.8880\n",
      "Epoch 15/100\n",
      "60000/60000 [==============================] - 16s 261us/step - loss: 0.3011 - accuracy: 0.8899\n",
      "Epoch 16/100\n",
      "60000/60000 [==============================] - 26s 436us/step - loss: 0.2994 - accuracy: 0.8896\n",
      "Epoch 17/100\n",
      "60000/60000 [==============================] - 29s 485us/step - loss: 0.2965 - accuracy: 0.8901\n",
      "Epoch 18/100\n",
      "60000/60000 [==============================] - 21s 342us/step - loss: 0.2926 - accuracy: 0.8915\n",
      "Epoch 19/100\n",
      "60000/60000 [==============================] - 15s 258us/step - loss: 0.2905 - accuracy: 0.8922\n",
      "Epoch 20/100\n",
      "60000/60000 [==============================] - 14s 231us/step - loss: 0.2893 - accuracy: 0.8927\n",
      "Epoch 21/100\n",
      "60000/60000 [==============================] - 14s 228us/step - loss: 0.2865 - accuracy: 0.8937\n",
      "Epoch 22/100\n",
      "60000/60000 [==============================] - 14s 238us/step - loss: 0.2829 - accuracy: 0.8952\n",
      "Epoch 23/100\n",
      "60000/60000 [==============================] - 14s 238us/step - loss: 0.2804 - accuracy: 0.8952\n",
      "Epoch 24/100\n",
      "60000/60000 [==============================] - 14s 239us/step - loss: 0.2800 - accuracy: 0.8959\n",
      "Epoch 25/100\n",
      "60000/60000 [==============================] - 14s 234us/step - loss: 0.2777 - accuracy: 0.8965\n",
      "Epoch 26/100\n",
      "60000/60000 [==============================] - 14s 233us/step - loss: 0.2747 - accuracy: 0.8978\n",
      "Epoch 27/100\n",
      "60000/60000 [==============================] - 15s 252us/step - loss: 0.2739 - accuracy: 0.8985\n",
      "Epoch 28/100\n",
      "60000/60000 [==============================] - 15s 244us/step - loss: 0.2712 - accuracy: 0.8993\n",
      "Epoch 29/100\n",
      "60000/60000 [==============================] - 15s 245us/step - loss: 0.2706 - accuracy: 0.8985\n",
      "Epoch 30/100\n",
      "60000/60000 [==============================] - 13s 219us/step - loss: 0.2712 - accuracy: 0.8987\n",
      "Epoch 31/100\n",
      "60000/60000 [==============================] - 15s 244us/step - loss: 0.2685 - accuracy: 0.9001\n",
      "Epoch 32/100\n",
      "60000/60000 [==============================] - 15s 244us/step - loss: 0.2658 - accuracy: 0.9015\n",
      "Epoch 33/100\n",
      "60000/60000 [==============================] - 14s 240us/step - loss: 0.2644 - accuracy: 0.9008\n",
      "Epoch 34/100\n",
      "60000/60000 [==============================] - 16s 269us/step - loss: 0.2627 - accuracy: 0.9026\n",
      "Epoch 35/100\n",
      "60000/60000 [==============================] - 14s 238us/step - loss: 0.2616 - accuracy: 0.9026\n",
      "Epoch 36/100\n",
      "60000/60000 [==============================] - 13s 219us/step - loss: 0.2594 - accuracy: 0.9039\n",
      "Epoch 37/100\n",
      "60000/60000 [==============================] - 13s 210us/step - loss: 0.2579 - accuracy: 0.9033\n",
      "Epoch 38/100\n",
      "60000/60000 [==============================] - 13s 217us/step - loss: 0.2588 - accuracy: 0.9026\n",
      "Epoch 39/100\n",
      "60000/60000 [==============================] - 16s 274us/step - loss: 0.2580 - accuracy: 0.9039\n",
      "Epoch 40/100\n",
      "60000/60000 [==============================] - 15s 243us/step - loss: 0.2568 - accuracy: 0.9037\n",
      "Epoch 41/100\n",
      "60000/60000 [==============================] - 13s 220us/step - loss: 0.2552 - accuracy: 0.9051\n",
      "Epoch 42/100\n",
      "60000/60000 [==============================] - 14s 226us/step - loss: 0.2527 - accuracy: 0.9061\n",
      "Epoch 43/100\n",
      "60000/60000 [==============================] - 13s 209us/step - loss: 0.2536 - accuracy: 0.9061\n",
      "Epoch 44/100\n",
      "60000/60000 [==============================] - 12s 208us/step - loss: 0.2522 - accuracy: 0.9060\n",
      "Epoch 45/100\n",
      "60000/60000 [==============================] - 13s 209us/step - loss: 0.2494 - accuracy: 0.9071\n",
      "Epoch 46/100\n",
      "60000/60000 [==============================] - 13s 210us/step - loss: 0.2499 - accuracy: 0.9059\n",
      "Epoch 47/100\n",
      "60000/60000 [==============================] - 13s 215us/step - loss: 0.2495 - accuracy: 0.9075\n",
      "Epoch 48/100\n",
      "60000/60000 [==============================] - 12s 207us/step - loss: 0.2488 - accuracy: 0.9066\n",
      "Epoch 49/100\n",
      "60000/60000 [==============================] - 12s 208us/step - loss: 0.2472 - accuracy: 0.9078\n",
      "Epoch 50/100\n",
      "60000/60000 [==============================] - 12s 208us/step - loss: 0.2465 - accuracy: 0.9071\n",
      "Epoch 51/100\n",
      "60000/60000 [==============================] - 12s 208us/step - loss: 0.2470 - accuracy: 0.9079\n",
      "Epoch 52/100\n",
      "60000/60000 [==============================] - 12s 207us/step - loss: 0.2446 - accuracy: 0.9089\n",
      "Epoch 53/100\n",
      "60000/60000 [==============================] - 12s 208us/step - loss: 0.2450 - accuracy: 0.9084\n",
      "Epoch 54/100\n",
      "60000/60000 [==============================] - 12s 208us/step - loss: 0.2448 - accuracy: 0.9076\n",
      "Epoch 55/100\n",
      "60000/60000 [==============================] - 12s 207us/step - loss: 0.2426 - accuracy: 0.9090\n",
      "Epoch 56/100\n",
      "60000/60000 [==============================] - 12s 206us/step - loss: 0.2402 - accuracy: 0.9097\n",
      "Epoch 57/100\n",
      "60000/60000 [==============================] - 12s 208us/step - loss: 0.2412 - accuracy: 0.9094\n",
      "Epoch 58/100\n",
      "60000/60000 [==============================] - 12s 207us/step - loss: 0.2404 - accuracy: 0.9097\n",
      "Epoch 59/100\n",
      "60000/60000 [==============================] - 12s 207us/step - loss: 0.2392 - accuracy: 0.9104\n",
      "Epoch 60/100\n",
      "60000/60000 [==============================] - 12s 208us/step - loss: 0.2382 - accuracy: 0.9115\n",
      "Epoch 61/100\n",
      "60000/60000 [==============================] - 12s 208us/step - loss: 0.2384 - accuracy: 0.9108\n",
      "Epoch 62/100\n",
      "60000/60000 [==============================] - 12s 207us/step - loss: 0.2376 - accuracy: 0.9111\n",
      "Epoch 63/100\n",
      "60000/60000 [==============================] - 12s 208us/step - loss: 0.2371 - accuracy: 0.9108\n",
      "Epoch 64/100\n",
      "60000/60000 [==============================] - 12s 206us/step - loss: 0.2350 - accuracy: 0.9122\n",
      "Epoch 65/100\n",
      "60000/60000 [==============================] - 13s 209us/step - loss: 0.2353 - accuracy: 0.9115\n",
      "Epoch 66/100\n",
      "60000/60000 [==============================] - 13s 210us/step - loss: 0.2354 - accuracy: 0.9126\n",
      "Epoch 67/100\n",
      "60000/60000 [==============================] - 13s 213us/step - loss: 0.2335 - accuracy: 0.9121\n",
      "Epoch 68/100\n",
      "60000/60000 [==============================] - 12s 206us/step - loss: 0.2331 - accuracy: 0.9130\n",
      "Epoch 69/100\n",
      "60000/60000 [==============================] - 12s 206us/step - loss: 0.2326 - accuracy: 0.9133\n",
      "Epoch 70/100\n",
      "60000/60000 [==============================] - 12s 206us/step - loss: 0.2316 - accuracy: 0.9130\n",
      "Epoch 71/100\n",
      "60000/60000 [==============================] - 12s 205us/step - loss: 0.2315 - accuracy: 0.9134\n",
      "Epoch 72/100\n",
      "60000/60000 [==============================] - 12s 207us/step - loss: 0.2317 - accuracy: 0.9134\n",
      "Epoch 73/100\n",
      "60000/60000 [==============================] - 12s 207us/step - loss: 0.2296 - accuracy: 0.9146\n",
      "Epoch 74/100\n",
      "60000/60000 [==============================] - 12s 207us/step - loss: 0.2300 - accuracy: 0.9140\n",
      "Epoch 75/100\n",
      "60000/60000 [==============================] - 12s 207us/step - loss: 0.2302 - accuracy: 0.9154\n",
      "Epoch 76/100\n"
     ]
    },
    {
     "name": "stdout",
     "output_type": "stream",
     "text": [
      "60000/60000 [==============================] - 12s 206us/step - loss: 0.2295 - accuracy: 0.9141\n",
      "Epoch 77/100\n",
      "60000/60000 [==============================] - 12s 206us/step - loss: 0.2290 - accuracy: 0.9142\n",
      "Epoch 78/100\n",
      "60000/60000 [==============================] - 12s 206us/step - loss: 0.2266 - accuracy: 0.9142\n",
      "Epoch 79/100\n",
      "60000/60000 [==============================] - 12s 206us/step - loss: 0.2263 - accuracy: 0.9142\n",
      "Epoch 80/100\n",
      "60000/60000 [==============================] - 12s 207us/step - loss: 0.2274 - accuracy: 0.9153\n",
      "Epoch 81/100\n",
      "60000/60000 [==============================] - 12s 207us/step - loss: 0.2264 - accuracy: 0.9151\n",
      "Epoch 82/100\n",
      "60000/60000 [==============================] - 12s 207us/step - loss: 0.2271 - accuracy: 0.9152\n",
      "Epoch 83/100\n",
      "60000/60000 [==============================] - 12s 207us/step - loss: 0.2251 - accuracy: 0.9147\n",
      "Epoch 84/100\n",
      "60000/60000 [==============================] - 12s 208us/step - loss: 0.2262 - accuracy: 0.9150\n",
      "Epoch 85/100\n",
      "60000/60000 [==============================] - 12s 208us/step - loss: 0.2242 - accuracy: 0.9161\n",
      "Epoch 86/100\n",
      "60000/60000 [==============================] - 12s 206us/step - loss: 0.2242 - accuracy: 0.9159\n",
      "Epoch 87/100\n",
      "60000/60000 [==============================] - 12s 207us/step - loss: 0.2238 - accuracy: 0.9161\n",
      "Epoch 88/100\n",
      "60000/60000 [==============================] - 12s 207us/step - loss: 0.2237 - accuracy: 0.9168\n",
      "Epoch 89/100\n",
      "60000/60000 [==============================] - 12s 205us/step - loss: 0.2221 - accuracy: 0.9163\n",
      "Epoch 90/100\n",
      "60000/60000 [==============================] - 12s 207us/step - loss: 0.2225 - accuracy: 0.9161\n",
      "Epoch 91/100\n",
      "60000/60000 [==============================] - 12s 207us/step - loss: 0.2238 - accuracy: 0.9164\n",
      "Epoch 92/100\n",
      "60000/60000 [==============================] - 12s 207us/step - loss: 0.2213 - accuracy: 0.9160\n",
      "Epoch 93/100\n",
      "60000/60000 [==============================] - 12s 208us/step - loss: 0.2205 - accuracy: 0.9178\n",
      "Epoch 94/100\n",
      "60000/60000 [==============================] - 12s 206us/step - loss: 0.2215 - accuracy: 0.9168\n",
      "Epoch 95/100\n",
      "60000/60000 [==============================] - 12s 206us/step - loss: 0.2211 - accuracy: 0.9179\n",
      "Epoch 96/100\n",
      "60000/60000 [==============================] - 12s 208us/step - loss: 0.2194 - accuracy: 0.9184\n",
      "Epoch 97/100\n",
      "60000/60000 [==============================] - 12s 206us/step - loss: 0.2197 - accuracy: 0.9179\n",
      "Epoch 98/100\n",
      "60000/60000 [==============================] - 12s 207us/step - loss: 0.2183 - accuracy: 0.9174\n",
      "Epoch 99/100\n",
      "60000/60000 [==============================] - 12s 208us/step - loss: 0.2183 - accuracy: 0.9180\n",
      "Epoch 100/100\n",
      "60000/60000 [==============================] - 12s 207us/step - loss: 0.2174 - accuracy: 0.9188\n"
     ]
    },
    {
     "data": {
      "text/plain": [
       "<keras.callbacks.callbacks.History at 0x7f15e419ae48>"
      ]
     },
     "execution_count": 17,
     "metadata": {},
     "output_type": "execute_result"
    }
   ],
   "source": [
    "model.fit(x_train, y_train,epochs=100,batch_size=10)"
   ]
  },
  {
   "cell_type": "code",
   "execution_count": 18,
   "metadata": {},
   "outputs": [
    {
     "name": "stdout",
     "output_type": "stream",
     "text": [
      "10000/10000 [==============================] - 1s 61us/step\n"
     ]
    },
    {
     "data": {
      "text/plain": [
       "[0.5397810766220092, 0.8586999773979187]"
      ]
     },
     "execution_count": 18,
     "metadata": {},
     "output_type": "execute_result"
    }
   ],
   "source": [
    "model.evaluate(x_test, y_test)"
   ]
  },
  {
   "cell_type": "code",
   "execution_count": 19,
   "metadata": {},
   "outputs": [],
   "source": [
    "yp = model.predict(x_test)"
   ]
  },
  {
   "cell_type": "code",
   "execution_count": 20,
   "metadata": {},
   "outputs": [
    {
     "data": {
      "text/plain": [
       "<matplotlib.image.AxesImage at 0x7f15e415e208>"
      ]
     },
     "execution_count": 20,
     "metadata": {},
     "output_type": "execute_result"
    },
    {
     "data": {
      "image/png": "[encoded data removed]",
      "text/plain": [
       "<Figure size 288x288 with 1 Axes>"
      ]
     },
     "metadata": {
      "needs_background": "light"
     },
     "output_type": "display_data"
    }
   ],
   "source": [
    "plt.matshow(x_test[0])"
   ]
  },
  {
   "cell_type": "markdown",
   "metadata": {},
   "source": [
    "Prediction using Maximum Probability"
   ]
  },
  {
   "cell_type": "code",
   "execution_count": 21,
   "metadata": {},
   "outputs": [
    {
     "data": {
      "text/plain": [
       "array([1.6416301e-22, 1.1178692e-36, 1.0506205e-31, 2.5660740e-19,\n",
       "       5.2041755e-20, 9.5561403e-10, 6.6404125e-21, 1.0140477e-03,\n",
       "       1.6823585e-12, 9.9898595e-01], dtype=float32)"
      ]
     },
     "execution_count": 21,
     "metadata": {},
     "output_type": "execute_result"
    }
   ],
   "source": [
    "yp[0]"
   ]
  },
  {
   "cell_type": "code",
   "execution_count": 22,
   "metadata": {},
   "outputs": [],
   "source": [
    "import numpy as np"
   ]
  },
  {
   "cell_type": "code",
   "execution_count": 23,
   "metadata": {},
   "outputs": [
    {
     "data": {
      "text/plain": [
       "9"
      ]
     },
     "execution_count": 23,
     "metadata": {},
     "output_type": "execute_result"
    }
   ],
   "source": [
    "np.argmax(yp[0])"
   ]
  },
  {
   "cell_type": "code",
   "execution_count": 24,
   "metadata": {},
   "outputs": [],
   "source": [
    "class_labels = [\"T-shirt/top\",\"Trouser\",\"Pullover\",\"Dress\",\"Coat\",\"Sandal\",\"Shirt\",\"Sneaker\",\"Bag\",\"Ankle boot\"]"
   ]
  },
  {
   "cell_type": "code",
   "execution_count": 25,
   "metadata": {},
   "outputs": [
    {
     "data": {
      "text/plain": [
       "'Ankle boot'"
      ]
     },
     "execution_count": 25,
     "metadata": {},
     "output_type": "execute_result"
    }
   ],
   "source": [
    "class_labels[np.argmax(yp[0])]"
   ]
  },
  {
   "cell_type": "code",
   "execution_count": null,
   "metadata": {},
   "outputs": [],
   "source": []
  }
 ],
 "metadata": {
  "kernelspec": {
   "display_name": "Python 3",
   "language": "python",
   "name": "python3"
  },
  "language_info": {
   "codemirror_mode": {
    "name": "ipython",
    "version": 3
   },
   "file_extension": ".py",
   "mimetype": "text/x-python",
   "name": "python",
   "nbconvert_exporter": "python",
   "pygments_lexer": "ipython3",
   "version": "3.7.3"
  }
 },
 "nbformat": 4,
 "nbformat_minor": 2
}
